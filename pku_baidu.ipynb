{
  "nbformat": 4,
  "nbformat_minor": 0,
  "metadata": {
    "kernelspec": {
      "display_name": "Python 3",
      "language": "python",
      "name": "python3"
    },
    "language_info": {
      "codemirror_mode": {
        "name": "ipython",
        "version": 3
      },
      "file_extension": ".py",
      "mimetype": "text/x-python",
      "name": "python",
      "nbconvert_exporter": "python",
      "pygments_lexer": "ipython3",
      "version": "3.7.3"
    },
    "colab": {
      "name": "CenterNet_Baseline.ipynb",
      "provenance": [],
      "machine_shape": "hm"
    }
  },
  "cells": [
    {
      "cell_type": "markdown",
      "metadata": {
        "id": "F5CrkcUx0N9J",
        "colab_type": "text"
      },
      "source": [
        ""
      ]
    },
    {
      "cell_type": "code",
      "metadata": {
        "id": "S4H4lyUO0U8X",
        "colab_type": "code",
        "colab": {}
      },
      "source": [
        "from google.colab import drive\n",
        "drive.mount('/content/drive')\n",
        "\n",
        "# navigate to top level directory \n",
        "# this will lead to /root\n",
        "% cd ~ \n",
        "# so jump up another level\n",
        "% cd .. \n",
        "# go to data unzipped data folder\n",
        "% cd content/drive/Shared\\ drives/PKU\\ BAIDU_DATA/pku-autonomous-driving"
      ],
      "execution_count": 0,
      "outputs": []
    },
    {
      "cell_type": "code",
      "metadata": {
        "id": "wsQzGuga6igQ",
        "colab_type": "code",
        "colab": {}
      },
      "source": [
        "# Check which GPU is assigned to this session. (CoLab Pro)\n",
        "gpu_info = !nvidia-smi\n",
        "gpu_info = '\\n'.join(gpu_info)\n",
        "if gpu_info.find('failed') >= 0:\n",
        "  print('Select the Runtime → \"Change runtime type\" menu to enable a GPU accelerator, ')\n",
        "  print('and then re-execute this cell.')\n",
        "else:\n",
        "  print(gpu_info)"
      ],
      "execution_count": 0,
      "outputs": []
    },
    {
      "cell_type": "code",
      "metadata": {
        "_cell_guid": "b1076dfc-b9ad-4769-8c92-a6c4dae69d19",
        "_kg_hide-input": true,
        "_kg_hide-output": true,
        "_uuid": "8f2839f25d086af736a60e9eeb907d3b93b6e0e5",
        "id": "OOrPWO6i0N9L",
        "colab_type": "code",
        "colab": {}
      },
      "source": [
        "import numpy as np # linear algebra\n",
        "import pandas as pd # data processing, CSV file I/O (e.g. pd.read_csv)\n",
        "import cv2\n",
        "from tqdm import tqdm#_notebook as tqdm\n",
        "import matplotlib.pyplot as plt\n",
        "import seaborn as sns\n",
        "from functools import reduce\n",
        "import os\n",
        "from scipy.optimize import minimize\n",
        "import plotly.express as px\n",
        "\n",
        "from sklearn.model_selection import train_test_split\n",
        "from sklearn.linear_model import LinearRegression\n",
        "from sklearn.metrics import mean_absolute_error, mean_squared_error\n",
        "\n",
        "import torch\n",
        "import torch.nn as nn\n",
        "import torch.nn.functional as F\n",
        "import torch.optim as optim\n",
        "from torch.optim import lr_scheduler\n",
        "from torch.utils.data import Dataset, DataLoader\n",
        "from torchvision import models\n",
        "from torchvision import transforms, utils\n",
        "\n",
        "PATH = '/content/drive/Shared drives/PKU BAIDU_DATA/pku-autonomous-driving/'\n",
        "os.listdir(PATH)"
      ],
      "execution_count": 0,
      "outputs": []
    },
    {
      "cell_type": "code",
      "metadata": {
        "id": "HebCdMfm1w4U",
        "colab_type": "code",
        "colab": {}
      },
      "source": [
        "PATH = '/content/drive/Shared drives/PKU BAIDU_DATA/pku-autonomous-driving/'\n",
        "videoFolderPath = 'video/'\n",
        "videoFramesPath = 'frames/'\n",
        "videoName = 'testvideo.mp4'\n",
        "\n",
        "path_to_video_file = PATH + videoFolderPath + videoName\n",
        "path_to_video_rawframes = PATH + videoFolderPath + videoFramesPath + \"rawframes/\"\n",
        "path_to_video_predictionframes = PATH + videoFolderPath + videoFramesPath + \"predictionframes/\""
      ],
      "execution_count": 0,
      "outputs": []
    },
    {
      "cell_type": "code",
      "metadata": {
        "id": "FQ58GP1W0N9R",
        "colab_type": "code",
        "colab": {}
      },
      "source": [
        "vidcap = cv2.VideoCapture(path_to_video_file)\n",
        "def getFrame(sec):\n",
        "    vidcap.set(cv2.CAP_PROP_POS_MSEC,sec*1000)\n",
        "    hasFrames,image = vidcap.read()\n",
        "    if hasFrames:\n",
        "        cv2.imwrite(path_to_video_rawframes +\"image\"+str(count) +\".jpg\", image)     # save frame as JPG file\n",
        "    return hasFrames\n",
        "sec = 0\n",
        "frameRate = 0.05 #//it will capture image in each 0.05 second\n",
        "count=1\n",
        "success = getFrame(sec)\n",
        "while success:\n",
        "    count = count + 1\n",
        "    sec = sec + frameRate\n",
        "    sec = round(sec, 2)\n",
        "    success = getFrame(sec)\n",
        "print(count - 1)"
      ],
      "execution_count": 0,
      "outputs": []
    },
    {
      "cell_type": "code",
      "metadata": {
        "id": "O54K3aLR4HZv",
        "colab_type": "code",
        "colab": {}
      },
      "source": [
        "videoframesDF = pd.DataFrame(columns=['ImageId', 'PredictionString'])\n",
        "\n",
        "for idx in range(1, count):\n",
        "    a_row = [\"image\"+str(idx), \"0.5 0.5 0.5 0.0 0.0 0.0 1.0\"]\n",
        "    row_df = pd.DataFrame([a_row], columns=['ImageId', 'PredictionString'])\n",
        "    videoframesDF = pd.concat([videoframesDF, row_df], ignore_index=True)\n",
        "\n",
        "videoframesDF.head()"
      ],
      "execution_count": 0,
      "outputs": []
    },
    {
      "cell_type": "code",
      "metadata": {
        "id": "01bDYOla4LVU",
        "colab_type": "code",
        "colab": {}
      },
      "source": [
        "videoframesDF.to_csv(PATH + 'videoCSV.csv', index=False)"
      ],
      "execution_count": 0,
      "outputs": []
    },
    {
      "cell_type": "markdown",
      "metadata": {
        "id": "Tvj2lRkb0N9V",
        "colab_type": "text"
      },
      "source": [
        "# Load data"
      ]
    },
    {
      "cell_type": "code",
      "metadata": {
        "_cell_guid": "79c7e3d0-c299-4dcb-8224-4455121ee9b0",
        "_kg_hide-input": true,
        "_uuid": "d629ff2d2480ee46fbb7e2d37f6b5fab8052498a",
        "id": "MKtSWBkw0N9W",
        "colab_type": "code",
        "colab": {}
      },
      "source": [
        "train = pd.read_csv(PATH + 'train.csv')\n",
        "test = pd.read_csv(PATH + 'sample_submission.csv')\n",
        "\n",
        "# From camera.zip\n",
        "camera_matrix = np.array([[2304.5479, 0,  1686.2379],\n",
        "                          [0, 2305.8757, 1354.9849],\n",
        "                          [0, 0, 1]], dtype=np.float32)\n",
        "camera_matrix_inv = np.linalg.inv(camera_matrix)\n",
        "\n",
        "train.head()"
      ],
      "execution_count": 0,
      "outputs": []
    },
    {
      "cell_type": "markdown",
      "metadata": {
        "id": "kdOg1OLj0N9a",
        "colab_type": "text"
      },
      "source": [
        "**ImageId** column contains names of images:"
      ]
    },
    {
      "cell_type": "code",
      "metadata": {
        "_kg_hide-input": true,
        "id": "F09jwfFr0N9b",
        "colab_type": "code",
        "colab": {}
      },
      "source": [
        "def imread(path, fast_mode=False):\n",
        "    img = cv2.imread(path)\n",
        "    if not fast_mode and img is not None and len(img.shape) == 3:\n",
        "        img = np.array(img[:, :, ::-1])\n",
        "    return img\n",
        "\n",
        "img = imread(PATH + 'train_images/ID_8a6e65317' + '.jpg')\n",
        "IMG_SHAPE = img.shape\n",
        "\n",
        "plt.figure(figsize=(15,8))\n",
        "plt.imshow(img);"
      ],
      "execution_count": 0,
      "outputs": []
    },
    {
      "cell_type": "markdown",
      "metadata": {
        "id": "JpjIPJTx0N9f",
        "colab_type": "text"
      },
      "source": [
        "**PredictionString** column contains pose information about all cars  \n",
        "\n",
        "From the data description:\n",
        "> The primary data is images of cars and related pose information. The pose information is formatted as strings, as follows:  \n",
        ">\n",
        "> `model type, yaw, pitch, roll, x, y, z`  \n",
        ">\n",
        "> A concrete example with two cars in the photo:  \n",
        ">\n",
        "> `5 0.5 0.5 0.5 0.0 0.0 0.0 32 0.25 0.25 0.25 0.5 0.4 0.7`  \n",
        "\n",
        "We will need a function to extract these values:"
      ]
    },
    {
      "cell_type": "code",
      "metadata": {
        "id": "7AphG4nu0N9g",
        "colab_type": "code",
        "colab": {}
      },
      "source": [
        "def str2coords(s, names=['id', 'yaw', 'pitch', 'roll', 'x', 'y', 'z']):\n",
        "    '''\n",
        "    Input:\n",
        "        s: PredictionString (e.g. from train dataframe)\n",
        "        names: array of what to extract from the string\n",
        "    Output:\n",
        "        list of dicts with keys from `names`\n",
        "    '''\n",
        "    coords = []\n",
        "    for l in np.array(s.split()).reshape([-1, 7]):\n",
        "        coords.append(dict(zip(names, l.astype('float'))))\n",
        "        if 'id' in coords[-1]:\n",
        "            coords[-1]['id'] = int(coords[-1]['id'])\n",
        "    return coords"
      ],
      "execution_count": 0,
      "outputs": []
    },
    {
      "cell_type": "code",
      "metadata": {
        "_kg_hide-input": true,
        "id": "UPH4Tm5t0N9k",
        "colab_type": "code",
        "colab": {}
      },
      "source": [
        "inp = train['PredictionString'][0]\n",
        "print('Example input:\\n', inp)\n",
        "print()\n",
        "print('Output:\\n', str2coords(inp))"
      ],
      "execution_count": 0,
      "outputs": []
    },
    {
      "cell_type": "markdown",
      "metadata": {
        "id": "-Y7Py3n50N9o",
        "colab_type": "text"
      },
      "source": [
        "# Data distributions"
      ]
    },
    {
      "cell_type": "code",
      "metadata": {
        "_kg_hide-input": true,
        "id": "kQsTxYsW0N9q",
        "colab_type": "code",
        "colab": {}
      },
      "source": [
        "lens = [len(str2coords(s)) for s in train['PredictionString']]\n",
        "\n",
        "plt.figure(figsize=(15,6))\n",
        "sns.countplot(lens);\n",
        "plt.xlabel('Number of cars in image');"
      ],
      "execution_count": 0,
      "outputs": []
    },
    {
      "cell_type": "markdown",
      "metadata": {
        "id": "XP5tPmXU0N9u",
        "colab_type": "text"
      },
      "source": [
        "DataFrame of all points"
      ]
    },
    {
      "cell_type": "code",
      "metadata": {
        "id": "hyAK0c0a0N9u",
        "colab_type": "code",
        "colab": {}
      },
      "source": [
        "points_df = pd.DataFrame()\n",
        "for col in ['x', 'y', 'z', 'yaw', 'pitch', 'roll']:\n",
        "    arr = []\n",
        "    for ps in train['PredictionString']:\n",
        "        coords = str2coords(ps)\n",
        "        arr += [c[col] for c in coords]\n",
        "    points_df[col] = arr\n",
        "\n",
        "print('len(points_df)', len(points_df))\n",
        "points_df.head()"
      ],
      "execution_count": 0,
      "outputs": []
    },
    {
      "cell_type": "code",
      "metadata": {
        "_kg_hide-input": true,
        "id": "HZKk98iT0N9y",
        "colab_type": "code",
        "colab": {}
      },
      "source": [
        "plt.figure(figsize=(15,6))\n",
        "sns.distplot(points_df['x'], bins=500);\n",
        "plt.xlabel('x')\n",
        "plt.show()"
      ],
      "execution_count": 0,
      "outputs": []
    },
    {
      "cell_type": "code",
      "metadata": {
        "_kg_hide-input": true,
        "id": "vW8P5XxU0N92",
        "colab_type": "code",
        "colab": {}
      },
      "source": [
        "plt.figure(figsize=(15,6))\n",
        "sns.distplot(points_df['y'], bins=500);\n",
        "plt.xlabel('y')\n",
        "plt.show()"
      ],
      "execution_count": 0,
      "outputs": []
    },
    {
      "cell_type": "code",
      "metadata": {
        "_kg_hide-input": true,
        "id": "wJcHMnc10N97",
        "colab_type": "code",
        "colab": {}
      },
      "source": [
        "plt.figure(figsize=(15,6))\n",
        "sns.distplot(points_df['z'], bins=500);\n",
        "plt.xlabel('z')\n",
        "plt.show()"
      ],
      "execution_count": 0,
      "outputs": []
    },
    {
      "cell_type": "code",
      "metadata": {
        "_kg_hide-input": true,
        "id": "HKtyHayd0N9-",
        "colab_type": "code",
        "colab": {}
      },
      "source": [
        "plt.figure(figsize=(15,6))\n",
        "sns.distplot(points_df['yaw'], bins=500);\n",
        "plt.xlabel('yaw')\n",
        "plt.show()"
      ],
      "execution_count": 0,
      "outputs": []
    },
    {
      "cell_type": "code",
      "metadata": {
        "_kg_hide-input": true,
        "id": "2frt7Y5D0N-C",
        "colab_type": "code",
        "colab": {}
      },
      "source": [
        "plt.figure(figsize=(15,6))\n",
        "sns.distplot(points_df['pitch'], bins=500);\n",
        "plt.xlabel('pitch')\n",
        "plt.show()"
      ],
      "execution_count": 0,
      "outputs": []
    },
    {
      "cell_type": "markdown",
      "metadata": {
        "id": "OV68iYfu0N-G",
        "colab_type": "text"
      },
      "source": [
        "I guess, pitch and yaw are mixed up in this dataset. Pitch cannot be that big. That would mean that cars are upside down."
      ]
    },
    {
      "cell_type": "code",
      "metadata": {
        "_kg_hide-input": true,
        "id": "FUIaJZSB0N-G",
        "colab_type": "code",
        "colab": {}
      },
      "source": [
        "def rotate(x, angle):\n",
        "    x = x + angle\n",
        "    x = x - (x + np.pi) // (2 * np.pi) * 2 * np.pi\n",
        "    return x\n",
        "\n",
        "plt.figure(figsize=(15,6))\n",
        "sns.distplot(points_df['roll'].map(lambda x: rotate(x, np.pi)), bins=500);\n",
        "plt.xlabel('roll rotated by pi')\n",
        "plt.show()"
      ],
      "execution_count": 0,
      "outputs": []
    },
    {
      "cell_type": "markdown",
      "metadata": {
        "id": "A9C4V1Gn0N-L",
        "colab_type": "text"
      },
      "source": [
        "# 2D Visualization"
      ]
    },
    {
      "cell_type": "code",
      "metadata": {
        "id": "6GxSD3DT0N-M",
        "colab_type": "code",
        "colab": {}
      },
      "source": [
        "def get_img_coords(s):\n",
        "    '''\n",
        "    Input is a PredictionString (e.g. from train dataframe)\n",
        "    Output is two arrays:\n",
        "        xs: x coordinates in the image (row)\n",
        "        ys: y coordinates in the image (column)\n",
        "    '''\n",
        "    coords = str2coords(s)\n",
        "    xs = [c['x'] for c in coords]\n",
        "    ys = [c['y'] for c in coords]\n",
        "    zs = [c['z'] for c in coords]\n",
        "    P = np.array(list(zip(xs, ys, zs))).T\n",
        "    img_p = np.dot(camera_matrix, P).T\n",
        "    img_p[:, 0] /= img_p[:, 2]\n",
        "    img_p[:, 1] /= img_p[:, 2]\n",
        "    img_xs = img_p[:, 0]\n",
        "    img_ys = img_p[:, 1]\n",
        "    img_zs = img_p[:, 2] # z = Distance from the camera\n",
        "    return img_xs, img_ys\n",
        "\n",
        "plt.figure(figsize=(14,14))\n",
        "plt.imshow(imread(PATH + 'train_images/' + train['ImageId'][2217] + '.jpg'))\n",
        "plt.scatter(*get_img_coords(train['PredictionString'][2217]), color='red', s=100);"
      ],
      "execution_count": 0,
      "outputs": []
    },
    {
      "cell_type": "markdown",
      "metadata": {
        "id": "oRZh5HaV0N-P",
        "colab_type": "text"
      },
      "source": [
        "One point is out of image!"
      ]
    },
    {
      "cell_type": "markdown",
      "metadata": {
        "id": "fafLnUjQ0N-R",
        "colab_type": "text"
      },
      "source": [
        "Let's look at the distribution of all points. Image is here just for reference."
      ]
    },
    {
      "cell_type": "code",
      "metadata": {
        "_kg_hide-input": true,
        "id": "GjxQu_Eo0N-R",
        "colab_type": "code",
        "colab": {}
      },
      "source": [
        "xs, ys = [], []\n",
        "\n",
        "for ps in train['PredictionString']:\n",
        "    x, y = get_img_coords(ps)\n",
        "    xs += list(x)\n",
        "    ys += list(y)\n",
        "\n",
        "plt.figure(figsize=(18,18))\n",
        "plt.imshow(imread(PATH + 'train_images/' + train['ImageId'][2217] + '.jpg'), alpha=0.3)\n",
        "plt.scatter(xs, ys, color='red', s=10, alpha=0.2);"
      ],
      "execution_count": 0,
      "outputs": []
    },
    {
      "cell_type": "markdown",
      "metadata": {
        "id": "9_YfRSHS0N-V",
        "colab_type": "text"
      },
      "source": [
        "Many points are outside!"
      ]
    },
    {
      "cell_type": "markdown",
      "metadata": {
        "id": "tn7ngToo0N-W",
        "colab_type": "text"
      },
      "source": [
        "Let's look at this distribution \"from the sky\""
      ]
    },
    {
      "cell_type": "code",
      "metadata": {
        "_kg_hide-input": true,
        "id": "rpENCG9r0N-W",
        "colab_type": "code",
        "colab": {}
      },
      "source": [
        "# Road points\n",
        "road_width = 3\n",
        "road_xs = [-road_width, road_width, road_width, -road_width, -road_width]\n",
        "road_ys = [0, 0, 500, 500, 0]\n",
        "\n",
        "plt.figure(figsize=(16,16))\n",
        "plt.axes().set_aspect(1)\n",
        "plt.xlim(-50,50)\n",
        "plt.ylim(0,100)\n",
        "\n",
        "# View road\n",
        "plt.fill(road_xs, road_ys, alpha=0.2, color='gray')\n",
        "plt.plot([road_width/2,road_width/2], [0,100], alpha=0.4, linewidth=4, color='white', ls='--')\n",
        "plt.plot([-road_width/2,-road_width/2], [0,100], alpha=0.4, linewidth=4, color='white', ls='--')\n",
        "# View cars\n",
        "plt.scatter(points_df['x'], np.sqrt(points_df['z']**2 + points_df['y']**2), color='red', s=10, alpha=0.1);"
      ],
      "execution_count": 0,
      "outputs": []
    },
    {
      "cell_type": "markdown",
      "metadata": {
        "id": "ZSjsmMoE0N-a",
        "colab_type": "text"
      },
      "source": [
        "3d distribution of points:"
      ]
    },
    {
      "cell_type": "code",
      "metadata": {
        "id": "Cq2lykrs0N-b",
        "colab_type": "code",
        "colab": {}
      },
      "source": [
        "fig = px.scatter_3d(points_df, x='x', y='y', z='z',color='pitch', range_x=(-50,50), range_y=(0,50), range_z=(0,250), opacity=0.1)\n",
        "fig.show()"
      ],
      "execution_count": 0,
      "outputs": []
    },
    {
      "cell_type": "markdown",
      "metadata": {
        "id": "TGKL40pm0N-g",
        "colab_type": "text"
      },
      "source": [
        "1) `x` is measured from left to right  \n",
        "2) I thought that `y` is the distance from the car and `z` is height above the road. Looks like this is not the case.  "
      ]
    },
    {
      "cell_type": "markdown",
      "metadata": {
        "id": "nZnhOrvZ0N-g",
        "colab_type": "text"
      },
      "source": [
        "Let's look how good these points lay in one plane  \n",
        "Try to predict `y` knowing `x, z`:"
      ]
    },
    {
      "cell_type": "code",
      "metadata": {
        "id": "BsabDNIY0N-h",
        "colab_type": "code",
        "colab": {}
      },
      "source": [
        "zy_slope = LinearRegression()\n",
        "X = points_df[['z']]\n",
        "y = points_df['y']\n",
        "zy_slope.fit(X, y)\n",
        "print('MAE without x:', mean_absolute_error(y, zy_slope.predict(X)))\n",
        "\n",
        "# Will use this model later\n",
        "xzy_slope = LinearRegression()\n",
        "X = points_df[['x', 'z']]\n",
        "y = points_df['y']\n",
        "xzy_slope.fit(X, y)\n",
        "print('MAE with x:', mean_absolute_error(y, xzy_slope.predict(X)))\n",
        "\n",
        "print('\\ndy/dx = {:.3f}\\ndy/dz = {:.3f}'.format(*xzy_slope.coef_))"
      ],
      "execution_count": 0,
      "outputs": []
    },
    {
      "cell_type": "code",
      "metadata": {
        "_kg_hide-input": true,
        "id": "9OJua75J0N-l",
        "colab_type": "code",
        "colab": {}
      },
      "source": [
        "plt.figure(figsize=(16,16))\n",
        "plt.xlim(0,500)\n",
        "plt.ylim(0,100)\n",
        "plt.scatter(points_df['z'], points_df['y'], label='Real points')\n",
        "X_line = np.linspace(0,500, 10)\n",
        "plt.plot(X_line, zy_slope.predict(X_line.reshape(-1, 1)), color='orange', label='Regression')\n",
        "plt.legend()\n",
        "plt.xlabel('z coordinate')\n",
        "plt.ylabel('y coordinate');"
      ],
      "execution_count": 0,
      "outputs": []
    },
    {
      "cell_type": "markdown",
      "metadata": {
        "id": "pVcvSjC70N-o",
        "colab_type": "text"
      },
      "source": [
        "# 3D Visualization\n",
        "Used code from https://www.kaggle.com/zstusnoopy/visualize-the-location-and-3d-bounding-box-of-car, but made it one function"
      ]
    },
    {
      "cell_type": "code",
      "metadata": {
        "_kg_hide-input": true,
        "id": "_mwNKrda0N-o",
        "colab_type": "code",
        "colab": {}
      },
      "source": [
        "from math import sin, cos\n",
        "\n",
        "# convert euler angle to rotation matrix\n",
        "def euler_to_Rot(yaw, pitch, roll):\n",
        "    Y = np.array([[cos(yaw), 0, sin(yaw)],\n",
        "                  [0, 1, 0],\n",
        "                  [-sin(yaw), 0, cos(yaw)]])\n",
        "    P = np.array([[1, 0, 0],\n",
        "                  [0, cos(pitch), -sin(pitch)],\n",
        "                  [0, sin(pitch), cos(pitch)]])\n",
        "    R = np.array([[cos(roll), -sin(roll), 0],\n",
        "                  [sin(roll), cos(roll), 0],\n",
        "                  [0, 0, 1]])\n",
        "    return np.dot(Y, np.dot(P, R))"
      ],
      "execution_count": 0,
      "outputs": []
    },
    {
      "cell_type": "code",
      "metadata": {
        "_kg_hide-input": true,
        "id": "V-R1C7k60N-s",
        "colab_type": "code",
        "colab": {}
      },
      "source": [
        "def draw_line(image, points):\n",
        "    color = (255, 0, 0)\n",
        "    cv2.line(image, tuple(points[0][:2]), tuple(points[3][:2]), color, 16)\n",
        "    cv2.line(image, tuple(points[0][:2]), tuple(points[1][:2]), color, 16)\n",
        "    cv2.line(image, tuple(points[1][:2]), tuple(points[2][:2]), color, 16)\n",
        "    cv2.line(image, tuple(points[2][:2]), tuple(points[3][:2]), color, 16)\n",
        "    return image\n",
        "\n",
        "\n",
        "\n",
        "def draw_points(image, points):\n",
        "    for (p_x, p_y, p_z) in points:\n",
        "      # print(\"x: \" + str(p_x) + \" y: \" + str(p_y) + \" z: \" + str(p_z))\n",
        "\n",
        "      ## Added some corner case handling\n",
        "      if p_z == 0:\n",
        "        radius = 10\n",
        "      else:\n",
        "        radius = 1000 / p_z\n",
        "        if radius == float('inf') or radius == float('-inf'):\n",
        "          radius = 10\n",
        "        else:\n",
        "          radius = abs(int(radius))\n",
        "      cv2.circle(image, (p_x, p_y), radius, (0, 255, 0), -1)\n",
        "      if p_x > image.shape[1] or p_y > image.shape[0]:\n",
        "        print('Point', p_x, p_y, 'is out of image with shape', image.shape)\n",
        "    return image"
      ],
      "execution_count": 0,
      "outputs": []
    },
    {
      "cell_type": "code",
      "metadata": {
        "id": "s97YvPds0N-x",
        "colab_type": "code",
        "colab": {}
      },
      "source": [
        "def visualize(img, coords):\n",
        "    # You will also need functions from the previous cells\n",
        "    x_l = 1.02\n",
        "    y_l = 0.80\n",
        "    z_l = 2.31\n",
        "    \n",
        "    img = img.copy()\n",
        "\n",
        "    serial = 0\n",
        "    for point in coords:\n",
        "        # Get values\n",
        "        x, y, z = point['x'], point['y'], point['z']\n",
        "        yaw, pitch, roll = -point['pitch'], -point['yaw'], -point['roll']\n",
        "\n",
        "        # print(\"x\" + str(x) + \"y\" + str(y) + \"z\" + str(z) + \"yaw\" + str(yaw) + \"pitch\" + str(pitch) + \"roll\" + str(roll))\n",
        "        # Math\n",
        "        Rt = np.eye(4)\n",
        "        t = np.array([x, y, z])\n",
        "        Rt[:3, 3] = t\n",
        "        Rt[:3, :3] = euler_to_Rot(yaw, pitch, roll).T\n",
        "        Rt = Rt[:3, :]\n",
        "        P = np.array([[x_l, -y_l, -z_l, 1],\n",
        "                      [x_l, -y_l, z_l, 1],\n",
        "                      [-x_l, -y_l, z_l, 1],\n",
        "                      [-x_l, -y_l, -z_l, 1],\n",
        "                      [0, 0, 0, 1]]).T\n",
        "        img_cor_points = np.dot(camera_matrix, np.dot(Rt, P))\n",
        "        img_cor_points = img_cor_points.T\n",
        "        img_cor_points[:, 0] /= img_cor_points[:, 2]\n",
        "        img_cor_points[:, 1] /= img_cor_points[:, 2]\n",
        "        img_cor_points = img_cor_points.astype(int)\n",
        "        # Drawing\n",
        "        img = draw_line(img, img_cor_points)\n",
        "        img = draw_points(img, img_cor_points[-1:])\n",
        "    \n",
        "    return img"
      ],
      "execution_count": 0,
      "outputs": []
    },
    {
      "cell_type": "code",
      "metadata": {
        "_kg_hide-input": true,
        "id": "b-5pE2ee0N-0",
        "colab_type": "code",
        "colab": {}
      },
      "source": [
        "n_rows = 6\n",
        "\n",
        "for idx in range(n_rows):\n",
        "    fig, axes = plt.subplots(1, 2, figsize=(20,20))\n",
        "    img = imread(PATH + 'train_images/' + train['ImageId'].iloc[idx] + '.jpg')\n",
        "    axes[0].imshow(img)\n",
        "    img_vis = visualize(img, str2coords(train['PredictionString'].iloc[idx]))\n",
        "    axes[1].imshow(img_vis)\n",
        "    plt.show()"
      ],
      "execution_count": 0,
      "outputs": []
    },
    {
      "cell_type": "markdown",
      "metadata": {
        "id": "86lZIYxF0N-3",
        "colab_type": "text"
      },
      "source": [
        "# Image preprocessing"
      ]
    },
    {
      "cell_type": "code",
      "metadata": {
        "id": "ewLltPuy0N-3",
        "colab_type": "code",
        "colab": {}
      },
      "source": [
        "IMG_WIDTH = 1024\n",
        "IMG_HEIGHT = IMG_WIDTH // 16 * 5\n",
        "MODEL_SCALE = 8\n",
        "\n",
        "def _regr_preprocess(regr_dict, flip=False):\n",
        "    if flip:\n",
        "        for k in ['x', 'pitch', 'roll']:\n",
        "            regr_dict[k] = -regr_dict[k]\n",
        "    for name in ['x', 'y', 'z']:\n",
        "        regr_dict[name] = regr_dict[name] / 100\n",
        "    regr_dict['roll'] = rotate(regr_dict['roll'], np.pi)\n",
        "    regr_dict['pitch_sin'] = sin(regr_dict['pitch'])\n",
        "    regr_dict['pitch_cos'] = cos(regr_dict['pitch'])\n",
        "    regr_dict.pop('pitch')\n",
        "    regr_dict.pop('id')\n",
        "    return regr_dict\n",
        "\n",
        "def _regr_back(regr_dict):\n",
        "    for name in ['x', 'y', 'z']:\n",
        "        regr_dict[name] = regr_dict[name] * 100\n",
        "    regr_dict['roll'] = rotate(regr_dict['roll'], -np.pi)\n",
        "    \n",
        "    pitch_sin = regr_dict['pitch_sin'] / np.sqrt(regr_dict['pitch_sin']**2 + regr_dict['pitch_cos']**2)\n",
        "    pitch_cos = regr_dict['pitch_cos'] / np.sqrt(regr_dict['pitch_sin']**2 + regr_dict['pitch_cos']**2)\n",
        "    regr_dict['pitch'] = np.arccos(pitch_cos) * np.sign(pitch_sin)\n",
        "    return regr_dict\n",
        "\n",
        "def preprocess_image(img, flip=False):\n",
        "    img = img[img.shape[0] // 2:]\n",
        "    bg = np.ones_like(img) * img.mean(1, keepdims=True).astype(img.dtype)\n",
        "    bg = bg[:, :img.shape[1] // 6]\n",
        "    img = np.concatenate([bg, img, bg], 1)\n",
        "    img = cv2.resize(img, (IMG_WIDTH, IMG_HEIGHT))\n",
        "    if flip:\n",
        "        img = img[:,::-1]\n",
        "    return (img / 255).astype('float32')\n",
        "\n",
        "def get_mask_and_regr(img, labels, flip=False):\n",
        "    mask = np.zeros([IMG_HEIGHT // MODEL_SCALE, IMG_WIDTH // MODEL_SCALE], dtype='float32')\n",
        "    regr_names = ['x', 'y', 'z', 'yaw', 'pitch', 'roll']\n",
        "    regr = np.zeros([IMG_HEIGHT // MODEL_SCALE, IMG_WIDTH // MODEL_SCALE, 7], dtype='float32')\n",
        "    coords = str2coords(labels)\n",
        "    xs, ys = get_img_coords(labels)\n",
        "    for x, y, regr_dict in zip(xs, ys, coords):\n",
        "        x, y = y, x\n",
        "        x = (x - img.shape[0] // 2) * IMG_HEIGHT / (img.shape[0] // 2) / MODEL_SCALE\n",
        "        x = np.round(x).astype('int')\n",
        "        y = (y + img.shape[1] // 6) * IMG_WIDTH / (img.shape[1] * 4/3) / MODEL_SCALE\n",
        "        y = np.round(y).astype('int')\n",
        "        if x >= 0 and x < IMG_HEIGHT // MODEL_SCALE and y >= 0 and y < IMG_WIDTH // MODEL_SCALE:\n",
        "            mask[x, y] = 1\n",
        "            regr_dict = _regr_preprocess(regr_dict, flip)\n",
        "            regr[x, y] = [regr_dict[n] for n in sorted(regr_dict)]\n",
        "    if flip:\n",
        "        mask = np.array(mask[:,::-1])\n",
        "        regr = np.array(regr[:,::-1])\n",
        "    return mask, regr"
      ],
      "execution_count": 0,
      "outputs": []
    },
    {
      "cell_type": "code",
      "metadata": {
        "id": "PbpXnzgr0N-5",
        "colab_type": "code",
        "colab": {}
      },
      "source": [
        "img0 = imread(PATH + 'train_images/' + train['ImageId'][0] + '.jpg')\n",
        "img = preprocess_image(img0)\n",
        "\n",
        "mask, regr = get_mask_and_regr(img0, train['PredictionString'][0])\n",
        "\n",
        "print('img.shape', img.shape, 'std:', np.std(img))\n",
        "print('mask.shape', mask.shape, 'std:', np.std(mask))\n",
        "print('regr.shape', regr.shape, 'std:', np.std(regr))\n",
        "\n",
        "plt.figure(figsize=(16,16))\n",
        "plt.title('Processed image')\n",
        "plt.imshow(img)\n",
        "plt.show()\n",
        "\n",
        "plt.figure(figsize=(16,16))\n",
        "plt.title('Detection Mask')\n",
        "plt.imshow(mask)\n",
        "plt.show()\n",
        "\n",
        "plt.figure(figsize=(16,16))\n",
        "plt.title('Yaw values')\n",
        "plt.imshow(regr[:,:,-2])\n",
        "plt.show()"
      ],
      "execution_count": 0,
      "outputs": []
    },
    {
      "cell_type": "markdown",
      "metadata": {
        "id": "aADqD9XN0N-9",
        "colab_type": "text"
      },
      "source": [
        "Define functions to convert back from 2d map to 3d coordinates and angles"
      ]
    },
    {
      "cell_type": "code",
      "metadata": {
        "_kg_hide-input": true,
        "id": "os61HY7H0N--",
        "colab_type": "code",
        "colab": {}
      },
      "source": [
        "DISTANCE_THRESH_CLEAR = 2\n",
        "\n",
        "def convert_3d_to_2d(x, y, z, fx = 2304.5479, fy = 2305.8757, cx = 1686.2379, cy = 1354.9849):\n",
        "    # stolen from https://www.kaggle.com/theshockwaverider/eda-visualization-baseline\n",
        "    return x * fx / z + cx, y * fy / z + cy\n",
        "\n",
        "def optimize_xy(r, c, x0, y0, z0, flipped=False):\n",
        "    def distance_fn(xyz):\n",
        "        x, y, z = xyz\n",
        "        xx = -x if flipped else x\n",
        "        slope_err = (xzy_slope.predict([[xx,z]])[0] - y)**2\n",
        "        x, y = convert_3d_to_2d(x, y, z)\n",
        "        y, x = x, y\n",
        "        x = (x - IMG_SHAPE[0] // 2) * IMG_HEIGHT / (IMG_SHAPE[0] // 2) / MODEL_SCALE\n",
        "        y = (y + IMG_SHAPE[1] // 6) * IMG_WIDTH / (IMG_SHAPE[1] * 4 / 3) / MODEL_SCALE\n",
        "        return max(0.2, (x-r)**2 + (y-c)**2) + max(0.4, slope_err)\n",
        "    \n",
        "    res = minimize(distance_fn, [x0, y0, z0], method='Powell')\n",
        "    x_new, y_new, z_new = res.x\n",
        "    return x_new, y_new, z_new\n",
        "\n",
        "def clear_duplicates(coords):\n",
        "    for c1 in coords:\n",
        "        xyz1 = np.array([c1['x'], c1['y'], c1['z']])\n",
        "        for c2 in coords:\n",
        "            xyz2 = np.array([c2['x'], c2['y'], c2['z']])\n",
        "            distance = np.sqrt(((xyz1 - xyz2)**2).sum())\n",
        "            if distance < DISTANCE_THRESH_CLEAR:\n",
        "                if c1['confidence'] < c2['confidence']:\n",
        "                    c1['confidence'] = -1\n",
        "    return [c for c in coords if c['confidence'] > 0]\n",
        "\n",
        "def extract_coords(prediction, flipped=False):\n",
        "    logits = prediction[0]\n",
        "    regr_output = prediction[1:]\n",
        "    points = np.argwhere(logits > 0)\n",
        "    col_names = sorted(['x', 'y', 'z', 'yaw', 'pitch_sin', 'pitch_cos', 'roll'])\n",
        "    coords = []\n",
        "    for r, c in points:\n",
        "        regr_dict = dict(zip(col_names, regr_output[:, r, c]))\n",
        "        coords.append(_regr_back(regr_dict))\n",
        "        coords[-1]['confidence'] = 1 / (1 + np.exp(-logits[r, c]))\n",
        "        coords[-1]['x'], coords[-1]['y'], coords[-1]['z'] = \\\n",
        "                optimize_xy(r, c,\n",
        "                            coords[-1]['x'],\n",
        "                            coords[-1]['y'],\n",
        "                            coords[-1]['z'], flipped)\n",
        "    coords = clear_duplicates(coords)\n",
        "    return coords\n",
        "\n",
        "def coords2str(coords, names=['yaw', 'pitch', 'roll', 'x', 'y', 'z', 'confidence']):\n",
        "    s = []\n",
        "    for c in coords:\n",
        "        for n in names:\n",
        "            s.append(str(c.get(n, 0)))\n",
        "    return ' '.join(s)"
      ],
      "execution_count": 0,
      "outputs": []
    },
    {
      "cell_type": "markdown",
      "metadata": {
        "id": "0VKeHhTv0N_B",
        "colab_type": "text"
      },
      "source": [
        "Ensure that all the forward and back transformations work consistently"
      ]
    },
    {
      "cell_type": "code",
      "metadata": {
        "_kg_hide-input": true,
        "id": "MsdsEbPv0N_B",
        "colab_type": "code",
        "colab": {}
      },
      "source": [
        "for idx in range(2):\n",
        "    fig, axes = plt.subplots(1, 2, figsize=(20,20))\n",
        "    \n",
        "    for ax_i in range(2):\n",
        "        img0 = imread(PATH + 'train_images/' + train['ImageId'].iloc[idx] + '.jpg')\n",
        "        if ax_i == 1:\n",
        "            img0 = img0[:,::-1]\n",
        "        img = preprocess_image(img0, ax_i==1)\n",
        "        mask, regr = get_mask_and_regr(img0, train['PredictionString'][idx], ax_i==1)\n",
        "        regr = np.rollaxis(regr, 2, 0)\n",
        "        coords = extract_coords(np.concatenate([mask[None], regr], 0), ax_i==1)\n",
        "        \n",
        "        axes[ax_i].set_title('Flip = {}'.format(ax_i==1))\n",
        "        axes[ax_i].imshow(visualize(img0, coords))\n",
        "    plt.show()"
      ],
      "execution_count": 0,
      "outputs": []
    },
    {
      "cell_type": "markdown",
      "metadata": {
        "id": "eyDIj4bo0N_E",
        "colab_type": "text"
      },
      "source": [
        "# PyTorch Dataset"
      ]
    },
    {
      "cell_type": "code",
      "metadata": {
        "_kg_hide-input": true,
        "_kg_hide-output": true,
        "id": "IsEDqG8j0N_E",
        "colab_type": "code",
        "colab": {}
      },
      "source": [
        "class CarDataset(Dataset):\n",
        "    \"\"\"Car dataset.\"\"\"\n",
        "\n",
        "    def __init__(self, dataframe, root_dir, training=True, transform=None):\n",
        "        self.df = dataframe\n",
        "        self.root_dir = root_dir\n",
        "        self.transform = transform\n",
        "        self.training = training\n",
        "\n",
        "    def __len__(self):\n",
        "        return len(self.df)\n",
        "\n",
        "    def __getitem__(self, idx):\n",
        "        if torch.is_tensor(idx):\n",
        "            idx = idx.tolist()\n",
        "        \n",
        "        # Get image name\n",
        "        idx, labels = self.df.values[idx]\n",
        "        img_name = self.root_dir.format(idx)\n",
        "        \n",
        "        # Augmentation\n",
        "        flip = False\n",
        "        if self.training:\n",
        "            flip = np.random.randint(10) == 1\n",
        "        \n",
        "        # Read image\n",
        "        img0 = imread(img_name, True)\n",
        "        img = preprocess_image(img0, flip=flip)\n",
        "        img = np.rollaxis(img, 2, 0)\n",
        "        \n",
        "        # Get mask and regression maps\n",
        "        mask, regr = get_mask_and_regr(img0, labels, flip=flip)\n",
        "        regr = np.rollaxis(regr, 2, 0)\n",
        "        \n",
        "        return [img, mask, regr]"
      ],
      "execution_count": 0,
      "outputs": []
    },
    {
      "cell_type": "code",
      "metadata": {
        "_kg_hide-input": true,
        "id": "LdL55tUm0N_H",
        "colab_type": "code",
        "colab": {}
      },
      "source": [
        "train_images_dir = PATH + 'train_images/{}.jpg'\n",
        "test_images_dir = PATH + 'test_images/{}.jpg'\n",
        "\n",
        "video_frames_dir = path_to_video_rawframes + '{}.jpg'\n",
        "\n",
        "df_train, df_dev = train_test_split(train, test_size=0.01, random_state=42)\n",
        "df_test = test\n",
        "\n",
        "df_video = videoframesDF\n",
        "\n",
        "# Create dataset objects\n",
        "train_dataset = CarDataset(df_train, train_images_dir, training=True)\n",
        "dev_dataset = CarDataset(df_dev, train_images_dir, training=False)\n",
        "test_dataset = CarDataset(df_test, test_images_dir, training=False)\n",
        "\n",
        "video_dataset = CarDataset(df_video, video_frames_dir, training=False)"
      ],
      "execution_count": 0,
      "outputs": []
    },
    {
      "cell_type": "markdown",
      "metadata": {
        "id": "VwbHzH9R0N_J",
        "colab_type": "text"
      },
      "source": [
        "Show some generated examples"
      ]
    },
    {
      "cell_type": "code",
      "metadata": {
        "_kg_hide-input": true,
        "id": "lfl3sP1l0N_K",
        "colab_type": "code",
        "colab": {}
      },
      "source": [
        "img, mask, regr = train_dataset[0]\n",
        "\n",
        "plt.figure(figsize=(16,16))\n",
        "plt.imshow(np.rollaxis(img, 0, 3))\n",
        "plt.show()\n",
        "\n",
        "plt.figure(figsize=(16,16))\n",
        "plt.imshow(mask)\n",
        "plt.show()\n",
        "\n",
        "plt.figure(figsize=(16,16))\n",
        "plt.imshow(regr[-2])\n",
        "plt.show()"
      ],
      "execution_count": 0,
      "outputs": []
    },
    {
      "cell_type": "code",
      "metadata": {
        "_kg_hide-input": true,
        "id": "00V5yDGz0N_O",
        "colab_type": "code",
        "colab": {}
      },
      "source": [
        "BATCH_SIZE = 4\n",
        "\n",
        "# Create data generators - they will produce batches\n",
        "train_loader = DataLoader(dataset=train_dataset, batch_size=BATCH_SIZE, shuffle=True, num_workers=4)\n",
        "dev_loader = DataLoader(dataset=dev_dataset, batch_size=BATCH_SIZE, shuffle=False, num_workers=0)\n",
        "test_loader = DataLoader(dataset=test_dataset, batch_size=BATCH_SIZE, shuffle=False, num_workers=0)"
      ],
      "execution_count": 0,
      "outputs": []
    },
    {
      "cell_type": "markdown",
      "metadata": {
        "id": "LOZKJP8v0N_R",
        "colab_type": "text"
      },
      "source": [
        "# PyTorch Model"
      ]
    },
    {
      "cell_type": "code",
      "metadata": {
        "_kg_hide-input": true,
        "_kg_hide-output": true,
        "id": "vlx6qKCr0N_S",
        "colab_type": "code",
        "colab": {}
      },
      "source": [
        "!pip install efficientnet-pytorch"
      ],
      "execution_count": 0,
      "outputs": []
    },
    {
      "cell_type": "code",
      "metadata": {
        "id": "ym3Xy8Ad0N_V",
        "colab_type": "code",
        "colab": {}
      },
      "source": [
        "from efficientnet_pytorch import EfficientNet"
      ],
      "execution_count": 0,
      "outputs": []
    },
    {
      "cell_type": "code",
      "metadata": {
        "_kg_hide-input": true,
        "id": "f1ZBq-dE0N_X",
        "colab_type": "code",
        "colab": {}
      },
      "source": [
        "class double_conv(nn.Module):\n",
        "    '''(conv => BN => ReLU) * 2'''\n",
        "    def __init__(self, in_ch, out_ch):\n",
        "        super(double_conv, self).__init__()\n",
        "        self.conv = nn.Sequential(\n",
        "            nn.Conv2d(in_ch, out_ch, 3, padding=1),\n",
        "            nn.BatchNorm2d(out_ch),\n",
        "            nn.ReLU(inplace=True),\n",
        "            nn.Conv2d(out_ch, out_ch, 3, padding=1),\n",
        "            nn.BatchNorm2d(out_ch),\n",
        "            nn.ReLU(inplace=True)\n",
        "        )\n",
        "\n",
        "    def forward(self, x):\n",
        "        x = self.conv(x)\n",
        "        return x\n",
        "\n",
        "class up(nn.Module):\n",
        "    def __init__(self, in_ch, out_ch, bilinear=True):\n",
        "        super(up, self).__init__()\n",
        "\n",
        "        #  would be a nice idea if the upsampling could be learned too,\n",
        "        #  but my machine do not have enough memory to handle all those weights\n",
        "        if bilinear:\n",
        "            self.up = nn.Upsample(scale_factor=2, mode='bilinear', align_corners=True)\n",
        "        else:\n",
        "            self.up = nn.ConvTranspose2d(in_ch//2, in_ch//2, 2, stride=2)\n",
        "\n",
        "        self.conv = double_conv(in_ch, out_ch)\n",
        "\n",
        "    def forward(self, x1, x2=None):\n",
        "        x1 = self.up(x1)\n",
        "        \n",
        "        # input is CHW\n",
        "        diffY = x2.size()[2] - x1.size()[2]\n",
        "        diffX = x2.size()[3] - x1.size()[3]\n",
        "\n",
        "        x1 = F.pad(x1, (diffX // 2, diffX - diffX//2,\n",
        "                        diffY // 2, diffY - diffY//2))\n",
        "        \n",
        "        # for padding issues, see \n",
        "        # https://github.com/HaiyongJiang/U-Net-Pytorch-Unstructured-Buggy/commit/0e854509c2cea854e247a9c615f175f76fbb2e3a\n",
        "        # https://github.com/xiaopeng-liao/Pytorch-UNet/commit/8ebac70e633bac59fc22bb5195e513d5832fb3bd\n",
        "        \n",
        "        if x2 is not None:\n",
        "            x = torch.cat([x2, x1], dim=1)\n",
        "        else:\n",
        "            x = x1\n",
        "        x = self.conv(x)\n",
        "        return x\n",
        "\n",
        "def get_mesh(batch_size, shape_x, shape_y):\n",
        "    mg_x, mg_y = np.meshgrid(np.linspace(0, 1, shape_y), np.linspace(0, 1, shape_x))\n",
        "    mg_x = np.tile(mg_x[None, None, :, :], [batch_size, 1, 1, 1]).astype('float32')\n",
        "    mg_y = np.tile(mg_y[None, None, :, :], [batch_size, 1, 1, 1]).astype('float32')\n",
        "    mesh = torch.cat([torch.tensor(mg_x).to(device), torch.tensor(mg_y).to(device)], 1)\n",
        "    return mesh"
      ],
      "execution_count": 0,
      "outputs": []
    },
    {
      "cell_type": "code",
      "metadata": {
        "_kg_hide-input": true,
        "id": "P9dM2Q9e0N_a",
        "colab_type": "code",
        "colab": {}
      },
      "source": [
        "class MyUNet(nn.Module):\n",
        "    '''Mixture of previous classes'''\n",
        "    def __init__(self, n_classes):\n",
        "        super(MyUNet, self).__init__()\n",
        "        self.base_model = EfficientNet.from_pretrained('efficientnet-b0')\n",
        "        \n",
        "        self.conv0 = double_conv(5, 64)\n",
        "        self.conv1 = double_conv(64, 128)\n",
        "        self.conv2 = double_conv(128, 512)\n",
        "        self.conv3 = double_conv(512, 1024)\n",
        "        \n",
        "        self.mp = nn.MaxPool2d(2)\n",
        "        \n",
        "        self.up1 = up(1282 + 1024, 512)\n",
        "        self.up2 = up(512 + 512, 256)\n",
        "        self.outc = nn.Conv2d(256, n_classes, 1)\n",
        "\n",
        "    def forward(self, x):\n",
        "        batch_size = x.shape[0]\n",
        "        mesh1 = get_mesh(batch_size, x.shape[2], x.shape[3])\n",
        "        x0 = torch.cat([x, mesh1], 1)\n",
        "        x1 = self.mp(self.conv0(x0))\n",
        "        x2 = self.mp(self.conv1(x1))\n",
        "        x3 = self.mp(self.conv2(x2))\n",
        "        x4 = self.mp(self.conv3(x3))\n",
        "        \n",
        "        x_center = x[:, :, :, IMG_WIDTH // 8: -IMG_WIDTH // 8]\n",
        "        feats = self.base_model.extract_features(x_center)\n",
        "        bg = torch.zeros([feats.shape[0], feats.shape[1], feats.shape[2], feats.shape[3] // 8]).to(device)\n",
        "        feats = torch.cat([bg, feats, bg], 3)\n",
        "        \n",
        "        # Add positional info\n",
        "        mesh2 = get_mesh(batch_size, feats.shape[2], feats.shape[3])\n",
        "        feats = torch.cat([feats, mesh2], 1)\n",
        "        \n",
        "        x = self.up1(feats, x4)\n",
        "        x = self.up2(x, x3)\n",
        "        x = self.outc(x)\n",
        "        return x"
      ],
      "execution_count": 0,
      "outputs": []
    },
    {
      "cell_type": "code",
      "metadata": {
        "_kg_hide-input": true,
        "id": "zk6J_rO-0N_d",
        "colab_type": "code",
        "colab": {}
      },
      "source": [
        "# Gets the GPU if there is one, otherwise the cpu\n",
        "device = torch.device(\"cuda\" if torch.cuda.is_available() else \"cpu\")\n",
        "print(device)\n",
        "\n",
        "n_epochs = 10\n",
        "#n_epochs = 1\n",
        "\n",
        "model = MyUNet(8).to(device)\n",
        "optimizer = optim.Adam(model.parameters(), lr=0.001)\n",
        "exp_lr_scheduler = lr_scheduler.StepLR(optimizer, step_size=max(n_epochs, 10) * len(train_loader) // 3, gamma=0.1)"
      ],
      "execution_count": 0,
      "outputs": []
    },
    {
      "cell_type": "markdown",
      "metadata": {
        "id": "DM01i-mV0N_g",
        "colab_type": "text"
      },
      "source": [
        "# Training"
      ]
    },
    {
      "cell_type": "code",
      "metadata": {
        "_kg_hide-input": true,
        "id": "uD9X0M8m0N_h",
        "colab_type": "code",
        "colab": {}
      },
      "source": [
        "def criterion(prediction, mask, regr, size_average=True):\n",
        "    # Binary mask loss\n",
        "    pred_mask = torch.sigmoid(prediction[:, 0])\n",
        "#     mask_loss = mask * (1 - pred_mask)**2 * torch.log(pred_mask + 1e-12) + (1 - mask) * pred_mask**2 * torch.log(1 - pred_mask + 1e-12)\n",
        "    mask_loss = mask * torch.log(pred_mask + 1e-12) + (1 - mask) * torch.log(1 - pred_mask + 1e-12)\n",
        "    mask_loss = -mask_loss.mean(0).sum()\n",
        "    \n",
        "    # Regression L1 loss\n",
        "    pred_regr = prediction[:, 1:]\n",
        "    regr_loss = (torch.abs(pred_regr - regr).sum(1) * mask).sum(1).sum(1) / mask.sum(1).sum(1)\n",
        "    regr_loss = regr_loss.mean(0)\n",
        "    \n",
        "    # Sum\n",
        "    loss = mask_loss + regr_loss\n",
        "    if not size_average:\n",
        "        loss *= prediction.shape[0]\n",
        "    return loss"
      ],
      "execution_count": 0,
      "outputs": []
    },
    {
      "cell_type": "code",
      "metadata": {
        "_kg_hide-input": true,
        "id": "srZJAFt80N_l",
        "colab_type": "code",
        "colab": {}
      },
      "source": [
        "def train_model(epoch, history=None):\n",
        "    model.train()\n",
        "\n",
        "    for batch_idx, (img_batch, mask_batch, regr_batch) in enumerate(tqdm(train_loader)):\n",
        "        img_batch = img_batch.to(device)\n",
        "        mask_batch = mask_batch.to(device)\n",
        "        regr_batch = regr_batch.to(device)\n",
        "        \n",
        "        optimizer.zero_grad()\n",
        "        output = model(img_batch)\n",
        "        loss = criterion(output, mask_batch, regr_batch)\n",
        "        if history is not None:\n",
        "            history.loc[epoch + batch_idx / len(train_loader), 'train_loss'] = loss.data.cpu().numpy()\n",
        "        \n",
        "        loss.backward()\n",
        "        \n",
        "        optimizer.step()\n",
        "        exp_lr_scheduler.step()\n",
        "    \n",
        "    print('Train Epoch: {} \\tLR: {:.6f}\\tLoss: {:.6f}'.format(\n",
        "        epoch,\n",
        "        optimizer.state_dict()['param_groups'][0]['lr'],\n",
        "        loss.data))\n",
        "\n",
        "def evaluate_model(epoch, history=None):\n",
        "    model.eval()\n",
        "    loss = 0\n",
        "    \n",
        "    with torch.no_grad():\n",
        "        for img_batch, mask_batch, regr_batch in dev_loader:\n",
        "            img_batch = img_batch.to(device)\n",
        "            mask_batch = mask_batch.to(device)\n",
        "            regr_batch = regr_batch.to(device)\n",
        "\n",
        "            output = model(img_batch)\n",
        "\n",
        "            loss += criterion(output, mask_batch, regr_batch, size_average=False).data\n",
        "    \n",
        "    loss /= len(dev_loader.dataset)\n",
        "    \n",
        "    if history is not None:\n",
        "        history.loc[epoch, 'dev_loss'] = loss.cpu().numpy()\n",
        "    \n",
        "    print('Dev loss: {:.4f}'.format(loss))"
      ],
      "execution_count": 0,
      "outputs": []
    },
    {
      "cell_type": "code",
      "metadata": {
        "_kg_hide-input": true,
        "_kg_hide-output": true,
        "collapsed": true,
        "id": "1tYne9Qf0N_q",
        "colab_type": "code",
        "colab": {}
      },
      "source": [
        "%%time\n",
        "import gc\n",
        "\n",
        "history = pd.DataFrame()\n",
        "\n",
        "for epoch in range(n_epochs):\n",
        "    torch.cuda.empty_cache()\n",
        "    gc.collect()\n",
        "    train_model(epoch, history)\n",
        "    evaluate_model(epoch, history)"
      ],
      "execution_count": 0,
      "outputs": []
    },
    {
      "cell_type": "code",
      "metadata": {
        "id": "MWNwrWho0N_u",
        "colab_type": "code",
        "colab": {}
      },
      "source": [
        "torch.save(model.state_dict(), './model.pth')"
      ],
      "execution_count": 0,
      "outputs": []
    },
    {
      "cell_type": "code",
      "metadata": {
        "id": "sKaonwwm0N_w",
        "colab_type": "code",
        "colab": {}
      },
      "source": [
        "history['train_loss'].iloc[100:].plot();"
      ],
      "execution_count": 0,
      "outputs": []
    },
    {
      "cell_type": "code",
      "metadata": {
        "id": "c9O45aSU0N_z",
        "colab_type": "code",
        "colab": {}
      },
      "source": [
        "series = history.dropna()['dev_loss']\n",
        "plt.scatter(series.index, series);"
      ],
      "execution_count": 0,
      "outputs": []
    },
    {
      "cell_type": "markdown",
      "metadata": {
        "id": "Oz0V8fJ10N_2",
        "colab_type": "text"
      },
      "source": [
        "# Visualize predictions"
      ]
    },
    {
      "cell_type": "code",
      "metadata": {
        "_kg_hide-input": true,
        "id": "tS2RQj6_0N_2",
        "colab_type": "code",
        "colab": {}
      },
      "source": [
        "img, mask, regr = dev_dataset[0]\n",
        "\n",
        "plt.figure(figsize=(16,16))\n",
        "plt.title('Input image')\n",
        "plt.imshow(np.rollaxis(img, 0, 3))\n",
        "plt.show()\n",
        "\n",
        "plt.figure(figsize=(16,16))\n",
        "plt.title('Ground truth mask')\n",
        "plt.imshow(mask)\n",
        "plt.show()\n",
        "\n",
        "output = model(torch.tensor(img[None]).to(device))\n",
        "logits = output[0,0].data.cpu().numpy()\n",
        "\n",
        "plt.figure(figsize=(16,16))\n",
        "plt.title('Model predictions')\n",
        "plt.imshow(logits)\n",
        "plt.show()\n",
        "\n",
        "plt.figure(figsize=(16,16))\n",
        "plt.title('Model predictions thresholded')\n",
        "plt.imshow(logits > 0)\n",
        "plt.show()"
      ],
      "execution_count": 0,
      "outputs": []
    },
    {
      "cell_type": "code",
      "metadata": {
        "id": "rKyYW-gC0N_5",
        "colab_type": "code",
        "colab": {}
      },
      "source": [
        "torch.cuda.empty_cache()\n",
        "gc.collect()\n",
        "\n",
        "for idx in range(8):\n",
        "    img, mask, regr = dev_dataset[idx]\n",
        "    \n",
        "    output = model(torch.tensor(img[None]).to(device)).data.cpu().numpy()\n",
        "    coords_pred = extract_coords(output[0])\n",
        "    coords_true = extract_coords(np.concatenate([mask[None], regr], 0))\n",
        "    \n",
        "    img = imread(train_images_dir.format(df_dev['ImageId'].iloc[idx]))\n",
        "    \n",
        "    fig, axes = plt.subplots(1, 2, figsize=(30,30))\n",
        "    axes[0].set_title('Ground truth')\n",
        "    axes[0].imshow(visualize(img, coords_true))\n",
        "    axes[1].set_title('Prediction')\n",
        "    axes[1].imshow(visualize(img, coords_pred))\n",
        "    plt.show()"
      ],
      "execution_count": 0,
      "outputs": []
    },
    {
      "cell_type": "markdown",
      "metadata": {
        "id": "EcEhLfKA0N_7",
        "colab_type": "text"
      },
      "source": [
        "# Make submission"
      ]
    },
    {
      "cell_type": "code",
      "metadata": {
        "id": "kSJB9X3Q0N_7",
        "colab_type": "code",
        "colab": {}
      },
      "source": [
        "predictions = []\n",
        "\n",
        "test_loader = DataLoader(dataset=test_dataset, batch_size=4, shuffle=False, num_workers=4)\n",
        "\n",
        "model.eval()\n",
        "\n",
        "for img, _, _ in tqdm(test_loader):\n",
        "    with torch.no_grad():\n",
        "        output = model(img.to(device))\n",
        "    output = output.data.cpu().numpy()\n",
        "    for out in output:\n",
        "        coords = extract_coords(out)\n",
        "        s = coords2str(coords)\n",
        "        predictions.append(s)\n"
      ],
      "execution_count": 0,
      "outputs": []
    },
    {
      "cell_type": "code",
      "metadata": {
        "id": "_JYW7ExD0OAB",
        "colab_type": "code",
        "colab": {}
      },
      "source": [
        "test = pd.read_csv(PATH + 'sample_submission.csv')\n",
        "test['PredictionString'] = predictions\n",
        "test.to_csv(PATH + 'predictions.csv', index=False)\n",
        "test.head()"
      ],
      "execution_count": 0,
      "outputs": []
    },
    {
      "cell_type": "code",
      "metadata": {
        "id": "9-rwQcXD0OAE",
        "colab_type": "code",
        "colab": {}
      },
      "source": [
        "videoPredictions = []\n",
        "\n",
        "video_loader = DataLoader(dataset=video_dataset, batch_size=4, shuffle=False, num_workers=4)\n",
        "\n",
        "model.eval()\n",
        "\n",
        "for img, _, _ in tqdm(video_loader):\n",
        "    with torch.no_grad():\n",
        "        output = model(img.to(device))\n",
        "    output = output.data.cpu().numpy()\n",
        "    for out in output:\n",
        "        coords = extract_coords(out)\n",
        "        s = coords2str(coords)\n",
        "        videoPredictions.append(s)\n",
        "\n",
        "videoCSV = pd.read_csv(PATH + 'videoCSV.csv')\n",
        "videoCSV['PredictionString'] = videoPredictions\n",
        "videoCSV.to_csv(PATH + 'video-predictions.csv', index=False)\n",
        "videoCSV.head()"
      ],
      "execution_count": 0,
      "outputs": []
    },
    {
      "cell_type": "code",
      "metadata": {
        "id": "GhgEZGyoJLet",
        "colab_type": "code",
        "colab": {}
      },
      "source": [
        "videoCSV.head()"
      ],
      "execution_count": 0,
      "outputs": []
    },
    {
      "cell_type": "code",
      "metadata": {
        "id": "Y3QJGbCJYWhG",
        "colab_type": "code",
        "colab": {}
      },
      "source": [
        "# Convert the prediction string to coordinates for visualization \n",
        "def str2viscoords(s, names=['yaw', 'pitch', 'roll', 'x', 'y', 'z','confidence']):\n",
        "    '''\n",
        "    Input:\n",
        "        s: PredictionString (e.g. from train dataframe)\n",
        "        names: array of what to extract from the string\n",
        "    Output:\n",
        "        list of dicts with keys from `names`\n",
        "    '''\n",
        "    coords = []\n",
        "    for l in np.array(s.split()).reshape([-1, 7]):\n",
        "        coords.append(dict(zip(names, l.astype('float'))))\n",
        "    return coords"
      ],
      "execution_count": 0,
      "outputs": []
    },
    {
      "cell_type": "code",
      "metadata": {
        "id": "LiCvE1_jV_JJ",
        "colab_type": "code",
        "colab": {}
      },
      "source": [
        "# show an example of processed coordinates for visualization \n",
        "print(str2viscoords(videoCSV['PredictionString'].iloc[0]))"
      ],
      "execution_count": 0,
      "outputs": []
    },
    {
      "cell_type": "code",
      "metadata": {
        "id": "9ySB2-stKWKA",
        "colab_type": "code",
        "colab": {}
      },
      "source": [
        "# Load a sample frame from the video and show the original frame\n",
        "img = imread(path_to_video_rawframes + 'image' + str(1) + '.jpg')\n",
        "img = cv2.resize(img, (3384, 2710))\n",
        "plt.imshow(img)"
      ],
      "execution_count": 0,
      "outputs": []
    },
    {
      "cell_type": "code",
      "metadata": {
        "id": "zs732_K2nQzZ",
        "colab_type": "code",
        "colab": {}
      },
      "source": [
        "# Show an example of the prediction visualization on it. \n",
        "img_vis = visualize(img, str2viscoords(videoCSV['PredictionString'].iloc[0]))\n",
        "plt.figure(figsize=(15,8))\n",
        "plt.imshow(img_vis)"
      ],
      "execution_count": 0,
      "outputs": []
    },
    {
      "cell_type": "code",
      "metadata": {
        "id": "NnVFgKyXJLgR",
        "colab_type": "code",
        "colab": {}
      },
      "source": [
        "# save video prediction visualization images\n",
        "for idx in range(0, count-1):\n",
        "  img = imread(path_to_video_rawframes + 'image' + str(idx + 1) + '.jpg')\n",
        "  ###\n",
        "  img = cv2.resize(img, (3384, 2710))\n",
        "  ###\n",
        "  img_vis = visualize(img, str2viscoords(videoCSV['PredictionString'].iloc[idx]))\n",
        "  plt.imsave(path_to_video_predictionframes + 'image' + str(idx + 1) + '.jpg', img_vis)\n",
        "\n",
        "print(\"Video frames prediction visualization DONE!\")"
      ],
      "execution_count": 0,
      "outputs": []
    },
    {
      "cell_type": "code",
      "metadata": {
        "id": "MBmnKh_VByGD",
        "colab_type": "code",
        "colab": {}
      },
      "source": [
        "# Due to memory limit, generate a short video.\n",
        "count = 900\n",
        "print(count)\n",
        "\n",
        "PATH = '/content/drive/Shared drives/PKU BAIDU_DATA/pku-autonomous-driving/'\n",
        "videoFolderPath = 'video/'\n",
        "videoFramesPath = 'frames/'\n",
        "videoName = 'testvideo.mp4'\n",
        "\n",
        "path_to_video_file = PATH + videoFolderPath + videoName\n",
        "path_to_video_rawframes = PATH + videoFolderPath + videoFramesPath + \"rawframes/\"\n",
        "path_to_video_predictionframes = PATH + videoFolderPath + videoFramesPath + \"predictionframes/\"\n"
      ],
      "execution_count": 0,
      "outputs": []
    },
    {
      "cell_type": "code",
      "metadata": {
        "id": "pQM3JTwtLuYX",
        "colab_type": "code",
        "colab": {}
      },
      "source": [
        "# generate video\n",
        "import cv2\n",
        "import numpy as np\n",
        "import os\n",
        "from os.path import isfile, join\n",
        "pathIn= path_to_video_predictionframes\n",
        "pathOut = PATH + 'res_video.mp4'\n",
        "\n",
        "# Since the frames were captured per 0.05 second\n",
        "fps = 20\n",
        "\n",
        "frame_array = []\n",
        "# files = [f for f in os.listdir(pathIn) if isfile(join(pathIn, f))]\n",
        "# #for sorting the file names properly\n",
        "# files.sort(key = lambda x: x[5:-4])\n",
        "# files.sort()\n",
        "# frame_array = []\n",
        "# files = [f for f in os.listdir(pathIn) if isfile(join(pathIn, f))]\n",
        "# #for sorting the file names properly\n",
        "# files.sort(key = lambda x: x[5:-4])\n",
        "for i in range(1, count):\n",
        "    filename=pathIn + \"image\" + str(i) + \".jpg\"\n",
        "    #reading each files\n",
        "    img = cv2.imread(filename)\n",
        "    height, width, layers = img.shape\n",
        "    size = (width,height)\n",
        "    #inserting the frames into an image array\n",
        "    frame_array.append(img)\n",
        "    print(\"Appending frame NO. \" + str(i))\n",
        "out = cv2.VideoWriter(pathOut,cv2.VideoWriter_fourcc(*'DIVX'), fps, size)\n",
        "for i in range(len(frame_array)):\n",
        "    # writing to a image array\n",
        "    out.write(frame_array[i])\n",
        "    print(\"Wrting frame NO. \" + str(i))\n",
        "out.release()\n",
        "print(\"video done!\")"
      ],
      "execution_count": 0,
      "outputs": []
    }
  ]
}